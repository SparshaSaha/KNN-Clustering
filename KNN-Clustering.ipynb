{
 "cells": [
  {
   "cell_type": "code",
   "execution_count": 16,
   "metadata": {},
   "outputs": [],
   "source": [
    "import numpy as np\n",
    "import math\n",
    "import matplotlib.pyplot as plt\n",
    "x_pts=[[1,2],[2,4],[8,10],[22,1],[7,2],[12,13],[27,0],[2,3],[10,15],[10,11],[10,9],[20,1],[20,2],[20,5],[21,5],[22,8],[7,8],[7,1],[7,12],[1,4],[1,5],[2,4],[2,5],[2,7]]\n",
    "threshold=6\n"
   ]
  },
  {
   "cell_type": "code",
   "execution_count": 17,
   "metadata": {},
   "outputs": [],
   "source": [
    "def find_dist(p1,p2):\n",
    "    distance=(p1[0]-p2[0])**2+(p1[1]-p2[1])**2\n",
    "    return math.sqrt(distance)\n",
    "    "
   ]
  },
  {
   "cell_type": "code",
   "execution_count": 18,
   "metadata": {},
   "outputs": [
    {
     "data": {
      "image/png": "[encoded data removed]",
      "text/plain": [
       "<matplotlib.figure.Figure at 0x7fd0ee88e150>"
      ]
     },
     "metadata": {},
     "output_type": "display_data"
    }
   ],
   "source": [
    "x_len=len(x_pts)\n",
    "#create distance array\n",
    "dist_mat=[]\n",
    "for i in range(x_len):\n",
    "    for j in range(i,x_len):\n",
    "        dist_mat.append(find_dist(x_pts[i],x_pts[j]))\n",
    "\n",
    "cluster_heads=[x_pts[0]]\n",
    "clusters=[]\n",
    "\n",
    "\n",
    "#find_cluster_heads\n",
    "for pts in x_pts:\n",
    "    fl=0\n",
    "    for heads in cluster_heads:\n",
    "        dist=find_dist(pts,heads)\n",
    "        if(dist<threshold):\n",
    "            fl=1\n",
    "            break\n",
    "    if fl==0:\n",
    "        cluster_heads.append(pts)\n",
    "for i in cluster_heads:\n",
    "    clusters.append([i])\n",
    "    \n",
    "#find clusters\n",
    "\n",
    "for pts in x_pts:\n",
    "    min_dist=99999\n",
    "    min_head_no=0\n",
    "    for heads in range(len(cluster_heads)):\n",
    "        dist=find_dist(pts,cluster_heads[heads])\n",
    "        if(dist<min_dist):\n",
    "            min_dist=dist\n",
    "            min_head_no=heads\n",
    "    if pts not in cluster_heads:\n",
    "        clusters[min_head_no].append(pts)\n",
    "\n",
    "color_arr=['ro','bo','yo','go','ko','mo']\n",
    "\n",
    "for i in range(len(clusters)):\n",
    "    g=clusters[i]\n",
    "    for f in g:\n",
    "        plt.plot(f[0],f[1],color_arr[i])\n",
    "\n",
    "plt.show()\n",
    "        \n",
    "    \n",
    "        \n",
    "        "
   ]
  },
  {
   "cell_type": "code",
   "execution_count": null,
   "metadata": {},
   "outputs": [],
   "source": []
  },
  {
   "cell_type": "code",
   "execution_count": null,
   "metadata": {},
   "outputs": [],
   "source": []
  }
 ],
 "metadata": {
  "kernelspec": {
   "display_name": "Python 2",
   "language": "python",
   "name": "python2"
  },
  "language_info": {
   "codemirror_mode": {
    "name": "ipython",
    "version": 2
   },
   "file_extension": ".py",
   "mimetype": "text/x-python",
   "name": "python",
   "nbconvert_exporter": "python",
   "pygments_lexer": "ipython2",
   "version": "2.7.12+"
  }
 },
 "nbformat": 4,
 "nbformat_minor": 2
}
